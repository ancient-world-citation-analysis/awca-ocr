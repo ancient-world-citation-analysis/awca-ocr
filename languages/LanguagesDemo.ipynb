{
 "cells": [
  {
   "cell_type": "markdown",
   "source": [
    "# LanguagesDemo\n",
    "\n",
    "Here, I demonstrate the usage of the language tools in this module."
   ],
   "metadata": {}
  },
  {
   "cell_type": "markdown",
   "source": [
    "I wish to resolve all modules relative to the repo root. This ensures consistency throughout the repository and enables the simultaneous use of multiple different submodules."
   ],
   "metadata": {}
  },
  {
   "cell_type": "code",
   "execution_count": 1,
   "source": [
    "%cd .."
   ],
   "outputs": [
    {
     "output_type": "stream",
     "name": "stdout",
     "text": [
      "/home/peter/awca/awca-ocr\n"
     ]
    }
   ],
   "metadata": {}
  },
  {
   "cell_type": "markdown",
   "source": [
    "# Detect\n",
    "\n",
    "Here, I include sample usage of `detect.py`."
   ],
   "metadata": {}
  },
  {
   "cell_type": "code",
   "execution_count": 2,
   "source": [
    "from languages.detect import get_language_annotator"
   ],
   "outputs": [],
   "metadata": {}
  },
  {
   "cell_type": "code",
   "execution_count": 3,
   "source": [
    "sample_text = '''\n",
    "Classical Arabic (Arabic: ٱلْعَرَبِيَّةُ ٱلْفُصْحَىٰ‎, romanized: al-ʿarabīyah al-fuṣḥā) or\n",
    "Quranic Arabic is the standardized literary form of the Arabic language used\n",
    "from the 7th century and throughout the Middle Ages, most notably in Umayyad\n",
    "and Abbasid literary texts, such as poetry, elevated prose, and oratory, and is\n",
    "also the liturgical language of Islam. L’arabe classique et l'arabe standard\n",
    "moderne constituent ensemble l'arabe littéral. La diglossie de la langue arabe\n",
    "fournit en effet deux registres de langue, arabe littéral et arabe dialectal.\n",
    "L'arabe classique évolue au fil du temps de l'arabe précoranique à l'arabe\n",
    "coranique, puis à l'arabe post-coranique auquel est parfois réservée \n",
    "'appellation « arabe classique ».\n",
    "'''\n",
    "annotator = get_language_annotator()\n",
    "', '.join(annotator(sample_text.split()))"
   ],
   "outputs": [
    {
     "output_type": "execute_result",
     "data": {
      "text/plain": [
       "'ar, ar, ar, ar, ar, ar, ar, en, en, en, en, en, en, en, en, en, en, en, en, en, en, en, en, en, en, en, en, en, en, en, en, en, en, en, en, en, en, en, en, en, en, en, en, en, en, en, en, en, en, en, en, en, en, en, en, en, fr, fr, fr, fr, fr, fr, fr, fr, fr, fr, fr, fr, fr, fr, fr, fr, fr, fr, fr, fr, fr, fr, fr, fr, fr, fr, fr, fr, fr, fr, fr, fr, fr, fr, fr, fr, fr, fr, fr, fr, fr, fr, fr, fr, fr, fr, fr, fr, fr, fr, fr'"
      ]
     },
     "metadata": {},
     "execution_count": 3
    }
   ],
   "metadata": {}
  },
  {
   "cell_type": "code",
   "execution_count": 4,
   "source": [
    "from languages.detect import DEFAULT_NNLI\n",
    "[result.proportion for result in DEFAULT_NNLI.FindTopNMostFreqLangs(sample_text, 4)]"
   ],
   "outputs": [
    {
     "output_type": "execute_result",
     "data": {
      "text/plain": [
       "[0.89682537317276, 0.07010582089424133, 0.033068783581256866, 0.0]"
      ]
     },
     "metadata": {},
     "execution_count": 4
    }
   ],
   "metadata": {}
  },
  {
   "cell_type": "code",
   "execution_count": 5,
   "source": [
    "', '.join(annotator(sample_text[:200].split()))"
   ],
   "outputs": [
    {
     "output_type": "execute_result",
     "data": {
      "text/plain": [
       "'ar, ar, ar, ar, ar, ar, ar, en, en, en, en, en, en, en, en, en, en, en, en, en, en, en, en, en, en, en, en'"
      ]
     },
     "metadata": {},
     "execution_count": 5
    }
   ],
   "metadata": {}
  },
  {
   "cell_type": "code",
   "execution_count": null,
   "source": [],
   "outputs": [],
   "metadata": {}
  }
 ],
 "metadata": {
  "orig_nbformat": 4,
  "language_info": {
   "name": "python",
   "version": "3.9.6",
   "mimetype": "text/x-python",
   "codemirror_mode": {
    "name": "ipython",
    "version": 3
   },
   "pygments_lexer": "ipython3",
   "nbconvert_exporter": "python",
   "file_extension": ".py"
  },
  "kernelspec": {
   "name": "python3",
   "display_name": "Python 3.9.6 64-bit ('env': venv)"
  },
  "interpreter": {
   "hash": "21877f1a3cea13f941992282e52e0bb60566de9cb1f06da8973a062ad5c3776d"
  }
 },
 "nbformat": 4,
 "nbformat_minor": 2
}