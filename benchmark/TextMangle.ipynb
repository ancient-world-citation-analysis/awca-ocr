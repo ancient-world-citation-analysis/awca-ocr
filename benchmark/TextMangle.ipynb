{
    "cells": [
        {
            "cell_type": "markdown",
            "source": [
                "# TextMangle\n",
                "\n",
                "Render text as a PDF in a non-uniform way, and provide the text from which the PDF was generated."
            ],
            "metadata": {}
        },
        {
            "cell_type": "markdown",
            "source": [
                "## RandomRenderer\n",
                "\n",
                "Render images with random orientation, font, font size, coloring."
            ],
            "metadata": {}
        },
        {
            "cell_type": "code",
            "execution_count": 1,
            "source": [
                "from PIL import Image, ImageDraw, ImageFont\n",
                "import matplotlib.pyplot as plt\n",
                "import os\n",
                "from scipy import stats\n",
                "from fontTools.ttLib import TTFont\n",
                "from numpy.random import default_rng\n",
                "\n",
                "from RandomRenderer import RandomRenderer"
            ],
            "outputs": [],
            "metadata": {}
        },
        {
            "cell_type": "code",
            "execution_count": 2,
            "source": [
                "# Your fonts directory may be different depending on your machine.\n",
                "rr = RandomRenderer(rng=default_rng(2304), fonts_dir='/usr/share/fonts')"
            ],
            "outputs": [],
            "metadata": {}
        },
        {
            "cell_type": "code",
            "execution_count": 26,
            "source": [
                "rr.render('''['/usr/share/fonts/truetype/lohit-punjabi/Lohit-Gurmukhi.ttf',\n",
                " '/usr/share/fonts/truetype/Sarai/Sarai.ttf',\n",
                " '/usr/share/fonts/truetype/sinhala/lklug.ttf',\n",
                " '/usr/share/fonts/truetype/Gargi/Gargi.ttf',\n",
                " '/usr/share/fonts/truetype/lohit-tamil-classical/Lohit-Tamil-Classical.ttf',\n",
                " '/usr/share/fonts/truetype/abyssinica/AbyssinicaSIL-Regular.ttf',\n",
                " '/usr/share/fonts/truetype/pagul/Pagul.ttf',\n",
                " '/usr/share/fonts/truetype/fonts-kalapi/Kalapi.ttf',\n",
                " '/usr/share/fonts/truetype/lohit-telugu/Lohit-Telugu.ttf',\n",
                " '/usr/share/fonts/truetype/liberation/LiberationMono-Regular.ttf',\n",
                " '/usr/share/fonts/truetype/liberation/LiberationSerif-Italic.ttf',\n",
                " '/usr/share/fonts/truetype/liberation/LiberationSansNarrow-BoldItalic.ttf',\n",
                " '/usr/share/fonts/truetype/liberation/LiberationSansNarrow-Bold.ttf',\n",
                " '/usr/share/fonts/truetype/liberation/LiberationMono-Bold.ttf',\n",
                " '/usr/share/fonts/truetype/liberation/LiberationSansNarrow-Regular.ttf''')"
            ],
            "outputs": [
                {
                    "output_type": "execute_result",
                    "data": {
                        "image/png": "[encoded data removed]",
                        "text/plain": [
                            "<PIL.Image.Image image mode=RGB size=600x600 at 0x7FB9605754F0>"
                        ]
                    },
                    "metadata": {},
                    "execution_count": 26
                }
            ],
            "metadata": {}
        },
        {
            "cell_type": "markdown",
            "source": [
                "## WebWalk\n",
                "\n",
                "Traverse the Internet via hyperlinks.\n"
            ],
            "metadata": {}
        },
        {
            "cell_type": "code",
            "execution_count": 1,
            "source": [
                "from web_walk import *\n",
                "from numpy.random import default_rng"
            ],
            "outputs": [],
            "metadata": {}
        },
        {
            "cell_type": "code",
            "execution_count": 2,
            "source": [
                "result = web_walk(\n",
                "    start=wikipedia_home_page('en'),\n",
                "    desired_text_len=int(3e5),\n",
                "    rng=default_rng(1539),\n",
                "    language='en',\n",
                "    websites={wikipedia('en')},\n",
                "    fringe_size=5,\n",
                "    url_resolver=get_query_string_remover(get_prefixer('https://en.wikipedia.org')),\n",
                "    verbose=True\n",
                ")"
            ],
            "outputs": [
                {
                    "output_type": "stream",
                    "name": "stdout",
                    "text": [
                        "Visiting https://en.wikipedia.org/wiki/Home_page...\n",
                        "Visiting https://en.wikipedia.org/wiki/Special:RecentChanges...\n",
                        "Visiting https://en.wikipedia.org/wiki/IBM_PC_keyboard...\n",
                        "Visiting https://en.wikipedia.org/wiki/Special:BookSources/978-1-305-17627-0...\n",
                        "Visiting https://en.wikipedia.org/w/index.php...\n",
                        "Visiting https://en.wikipedia.org/wiki/Wikipedia:Community_portal...\n",
                        "Visiting https://en.wikipedia.org/wiki/Ulster_loyalism...\n",
                        "Visiting https://en.wikipedia.org/wiki/Wikipedia:Standard_offer...\n",
                        "Visiting https://en.wikipedia.org/wiki/Help:Cite_messages...\n",
                        "Visiting https://en.wikipedia.org/wiki/Wikipedia:Harassment...\n",
                        "Visiting https://en.wikipedia.org/wiki/LibraryThing...\n",
                        "Visiting https://en.wikipedia.org/wiki/Doppler_(building)...\n",
                        "Visiting https://en.wikipedia.org/wiki/Wikipedia:Don%27t_be_quick_to_assume_that_someone_is_a_sockpuppet...\n",
                        "Visiting https://en.wikipedia.org/wiki/Amazon_Appstore...\n",
                        "Visiting https://en.wikipedia.org/wiki/English_Democrats...\n",
                        "Visiting https://en.wikipedia.org/wiki/Amazon_Redshift...\n"
                    ]
                }
            ],
            "metadata": {}
        },
        {
            "cell_type": "code",
            "execution_count": 3,
            "source": [
                "result[-3000:-2000]"
            ],
            "outputs": [
                {
                    "output_type": "execute_result",
                    "data": {
                        "text/plain": [
                            "'y Esports\\nAnnapurna Labs\\nAudible\\nBlink Home\\nBody Labs\\nBook Depository\\nBookFinder\\nComiXology\\nDigital Photography Review\\nFresh\\nGoodreads\\nGoodreads Choice Awards\\nGraphiq\\nIMDb\\nIMDbPro\\nBox Office Mojo\\nIMDb TV\\nPillPack\\nRing\\nShopbop\\nSouq.com\\nTwitch\\nWoot.com\\nZappos\\nZoox\\nCloudcomputing\\nWeb Services\\nAMI\\nAmazon Aurora\\nBeanstalk\\nCloudFront\\nDynamoDB\\nEBS\\nEC2\\nEFS\\nElastiCache\\nEMR\\nGlacier\\nLambda\\nLightsail\\nMTurk\\nNeptune\\nProduct Advertising API\\nRDS\\nRedshift\\nRekognition\\nRoute 53\\nS3\\nSageMaker\\nSES\\nSNS\\nSimpleDB\\nSQS\\nVPC\\nServices\\nAmazon.com\\nChina\\nAlexa\\nAppstore\\nDigital Game Store\\nDrive\\nFire OS\\nKindle Store\\nLuna\\nPayments\\nPrime\\nKey\\nPrime Music\\nPrime Now\\nPrime Pantry\\nPrime Video\\nMarketplace\\nMusic (Wondery)\\nSilk\\nWireless\\nDevices\\nEcho\\nShow\\nEcho Buds\\nFire\\nFire HD\\nFire HDX\\nFire TV\\nStick\\nKindle\\nTechnology\\n1-Click\\nDynamo\\nObidos\\nLumberyard\\nMedia\\nAmazon Games\\nAmazon Publishing\\nAmazon Studios\\nBreakthrough Novel Award\\nBest Books of the Year\\nKindle Direct Publishing\\nYES Network (15%)\\nRetail\\nAmazon Books\\nAmazon Fresh\\nAmazon '"
                        ]
                    },
                    "metadata": {},
                    "execution_count": 3
                }
            ],
            "metadata": {}
        },
        {
            "cell_type": "code",
            "execution_count": 5,
            "source": [
                "result2 = web_walk(\n",
                "    start=wikipedia_home_page('zh'),\n",
                "    desired_text_len=int(3e5),\n",
                "    rng=default_rng(1539),\n",
                "    language=None,\n",
                "    websites={wikipedia('zh')},\n",
                "    fringe_size=5,\n",
                "    url_resolver=get_query_string_remover(get_prefixer('https://zh.wikipedia.org')),\n",
                "    verbose=True\n",
                ")"
            ],
            "outputs": [
                {
                    "output_type": "stream",
                    "name": "stdout",
                    "text": [
                        "Visiting https://zh.wikipedia.org/wiki/Home_page...\n",
                        "Visiting https://zh.wikipedia.org/wiki/Wikipedia:%E7%9F%A5%E8%AF%86%E9%97%AE%E7%AD%94...\n",
                        "Visiting https://zh.wikipedia.org/wiki/Wikipedia:%E5%AD%97%E8%AF%8D%E8%BD%AC%E6%8D%A2...\n",
                        "Visiting https://zh.wikipedia.org/wiki/Wikipedia:%E9%A6%96%E9%A1%B5...\n",
                        "Visiting https://zh.wikipedia.org/wiki/Wikipedia:%E4%BA%92%E5%8A%A9%E5%AE%A2%E6%A0%88...\n",
                        "Visiting https://zh.wikipedia.org/zh-sg/Home_page...\n",
                        "Visiting https://zh.wikipedia.org/wiki/User_talk:173.75.31.249...\n",
                        "Visiting https://zh.wikipedia.org/wiki/Wikipedia:%E5%AD%97%E8%AF%8D%E8%BD%AC%E6%8D%A2/%E5%9C%B0%E5%8C%BA%E8%AF%8D%E5%80%99%E9%80%89/%E5%AD%98%E6%A1%A3/2013%E5%B9%B410%E6%9C%88...\n",
                        "Visiting https://zh.wikipedia.org/wiki/Wikipedia:%E4%BA%92%E5%8A%A9%E5%AE%A2%E6%A0%88/%E6%9D%A1%E7%9B%AE%E6%8E%A2%E8%AE%A8#本名和藝名同時傳在的問題...\n",
                        "Visiting https://zh.wikipedia.org/wiki/%E5%B7%B4%E9%BB%8E...\n",
                        "Visiting https://zh.wikipedia.org/wiki/User:Yumeto...\n",
                        "Visiting https://zh.wikipedia.org/zh-hans/User:Yumeto...\n",
                        "Visiting https://zh.wikipedia.org/wiki/%E6%B3%95%E5%9C%8B%E7%B8%BD%E7%B5%B1...\n",
                        "Visiting https://zh.wikipedia.org/wiki/Category:%E5%96%9C%E6%AD%A1%E9%BB%91%E8%89%B2%E7%9A%84%E7%B6%AD%E5%9F%BA%E4%BA%BA...\n",
                        "Visiting https://zh.wikipedia.org/wiki/Wikipedia:%E4%BA%92%E5%8A%A9%E5%AE%A2%E6%A0%88/%E6%9D%A1%E7%9B%AE%E6%8E%A2%E8%AE%A8#关于条目关注度与相关条目的问题...\n",
                        "Visiting https://zh.wikipedia.org/wiki/Category:%E5%96%9C%E6%AD%A1%E5%AF%AB%E6%9B%B8%E6%B3%95%E7%9A%84%E7%B6%AD%E5%9F%BA%E4%BA%BA...\n"
                    ]
                }
            ],
            "metadata": {}
        },
        {
            "cell_type": "code",
            "execution_count": 6,
            "source": [
                "result2[-3000:-2000]"
            ],
            "outputs": [
                {
                    "output_type": "execute_result",
                    "data": {
                        "text/plain": [
                            "'接近。敬請參考--ThomasYehYeh（留言） 2021年9月3日 (五) 07:38 (UTC)[回复]\\n\\n目前看来冠狀血管说的是静动脉和冠状循环，Coronary arteries是冠状动脉。现在这样好像没问题，就是开头英文用错了而已。--淺藍雪❉ 2021年9月3日 (五) 09:16 (UTC)[回复]\\n请注意100米賽跑的无来源内容\\n100米賽跑的历代几杰部分完全没有参考资料，可是@Su-per_fast坚持维持原状。请大家确定一下100米賽跑的历代几杰部分是否符合WP:列明来源等方针指引，谢谢。--Gqqnb（留言） 2021年9月3日 (五) 14:22 (UTC)[回复]\\n\\n请大家注意一下历史版本，因为可能有编辑战。--Gqqnb（留言） 2021年9月3日 (五) 14:23 (UTC)[回复]\\n早已闡述過，是Gqqnb自己不提供可靠來源，堅持在自己沒可靠資料的情況下，故意把資料改成錯誤的數據，可參考Wikipedia:当前的破坏/存档/2021年8月Su-per fast（留言） 2021年9月3日 (五) 15:32 (UTC)[回复]\\n是Gqqnb自己堅持要把Elaine Thompson的最佳成績改成10.61秒、並堅持要把Shelly-Ann Fraser的最佳成績改成10.63秒，然後Gqqnb自己不提供資料的證明，卻反過頭來移除我在外部連結提供的國際田聯官網提供的官方版正式資料。就請問，Gqqnb堅持Elaine Thompson最佳成績是10.61秒，依據為何？Gqqnb堅持Shelly-Ann Fraser的最佳成績要改成10.63秒，依據為何？Su-per fast（留言） 2021年9月3日 (五) 15:36 (UTC)[回复]\\n我已把无来源内容删除。如果要加回，请记得WP:列明来源。--Gqqnb（留言） 2021年9月3日 (五) 17:29 (UTC)[回复]\\nElaine的10.54成绩在英维有来源。Itcfangye（留言） 2021年9月3日 (五) 15:53 (UTC)[回复]\\n你的意思是只留Elaine吗--Gqqnb（留言） 2021年9月3日 (五) 17:22 (UTC)[回复]\\n本名和藝名同時傳在的問題\\n有關黃婧靈及黃紫恩兩個條目在部分未播的劇集的條目仍使用她們的本名黃凱儀及黃芷欣作連結，已播的'"
                        ]
                    },
                    "metadata": {},
                    "execution_count": 6
                }
            ],
            "metadata": {}
        },
        {
            "cell_type": "code",
            "execution_count": 7,
            "source": [
                "result2[-8000:-7000]"
            ],
            "outputs": [
                {
                    "output_type": "execute_result",
                    "data": {
                        "text/plain": [
                            "'(UTC)[回复]\\n这组织好，支持！--Txkk（留言） 2021年9月1日 (三) 08:47 (UTC)[回复]\\n在判断有困难的情况下，如果是我，我基本上判断百度百科侵权。因为百度百科封闭，我方开放，我们难以从百度百科获取证据，只好做对有利自己的判断。--Gqqnb（留言） 2021年8月31日 (二) 16:15 (UTC)[回复]\\n境外网络游戏\\n本主題或以下段落文字，在討論結束後應存檔至Talk:关于进一步严格管理 切实防止未成年人沉迷网络游戏的通知。\\n这通知下发之后，很多人都评论说玩境外网络游戏就不受这个限制了。现在有没有未成年人绕过监管翻墙玩境外网络游戏的新闻来源？我找了很久也没找到，可能是我输入的关键词不对吧。--Txkk（留言） 2021年9月1日 (三) 08:42 (UTC)[回复]\\n\\n可能是传闻，未有正式报道？甚至还有传闻一直有未成年人拿成年监护人的身份信息来绕过防沉迷机制。——Sakamotosan路过围观杯弓蛇影 | 避免做作，免敬 2021年9月1日 (三) 09:38 (UTC)[回复]\\n后面那句不是传闻。现在的小孩子都很聪明的，未成年人拿成年监护人的身份证绕过防沉迷机制是相当普遍的做法。如果小孩子老老实实填自己的身份证信息，那我只能说他/她太蠢了。--Txkk（留言） 2021年9月1日 (三) 12:16 (UTC)[回复]\\n(！)意見 16以下的根本没有身份证好吧...因为这样那样的问题，所以现在要上人脸识别啊，这做不了假吧？--我是火星の石榴（留言） 2021年9月3日 (五) 03:33 (UTC)[回复]\\n没有身份证不代表没有身份证号码，在户口簿上可以看到身份证号码。--Txkk（留言） 2021年9月3日 (五) 08:39 (UTC)[回复]\\n就是网友在抖机灵啦。所谓的境外网络游戏，想个办法玩Minecraft非网易版就算玩境外网络游戏了。还有各种加速器什么的，很简单的 --Milky·Defer 2021年9月1日 (三) 10:07 (UTC)[回复]\\n我想写进条目的，但是没有相关来源我就没办法写进条目啊。--Txkk（留言） 2021年9月1日 (三) 12:10 (UTC)[回复]\\n对不起我错了我万万没想到就算是加速器也会被……--Milky·Defer 2021年9月2日 (四) 16:38 (UTC)[回复]'"
                        ]
                    },
                    "metadata": {},
                    "execution_count": 7
                }
            ],
            "metadata": {}
        },
        {
            "cell_type": "markdown",
            "source": [
                "## TextChunk\n",
                "\n",
                "Break text into passage-sized, page-sized, line-sized pieces."
            ],
            "metadata": {}
        },
        {
            "cell_type": "code",
            "execution_count": 1,
            "source": [
                "from numpy.random import default_rng\n",
                "from text_chunk import *"
            ],
            "outputs": [],
            "metadata": {}
        },
        {
            "cell_type": "code",
            "execution_count": 2,
            "source": [
                "sample_text = ''.join(char * (500 + i * 50) for i, char in enumerate('abcdefg'))\n",
                "sample_text"
            ],
            "outputs": [
                {
                    "output_type": "execute_result",
                    "data": {
                        "text/plain": [
                            "'aaaaaaaaaaaaaaaaaaaaaaaaaaaaaaaaaaaaaaaaaaaaaaaaaaaaaaaaaaaaaaaaaaaaaaaaaaaaaaaaaaaaaaaaaaaaaaaaaaaaaaaaaaaaaaaaaaaaaaaaaaaaaaaaaaaaaaaaaaaaaaaaaaaaaaaaaaaaaaaaaaaaaaaaaaaaaaaaaaaaaaaaaaaaaaaaaaaaaaaaaaaaaaaaaaaaaaaaaaaaaaaaaaaaaaaaaaaaaaaaaaaaaaaaaaaaaaaaaaaaaaaaaaaaaaaaaaaaaaaaaaaaaaaaaaaaaaaaaaaaaaaaaaaaaaaaaaaaaaaaaaaaaaaaaaaaaaaaaaaaaaaaaaaaaaaaaaaaaaaaaaaaaaaaaaaaaaaaaaaaaaaaaaaaaaaaaaaaaaaaaaaaaaaaaaaaaaaaaaaaaaaaaaaaaaaaaaaaaaaaaaaaaaaaaaaaaaaaaaaaaaaaaaaaaaaaaaaaaaaaaaaaaaaaaaaaaaaaaaaabbbbbbbbbbbbbbbbbbbbbbbbbbbbbbbbbbbbbbbbbbbbbbbbbbbbbbbbbbbbbbbbbbbbbbbbbbbbbbbbbbbbbbbbbbbbbbbbbbbbbbbbbbbbbbbbbbbbbbbbbbbbbbbbbbbbbbbbbbbbbbbbbbbbbbbbbbbbbbbbbbbbbbbbbbbbbbbbbbbbbbbbbbbbbbbbbbbbbbbbbbbbbbbbbbbbbbbbbbbbbbbbbbbbbbbbbbbbbbbbbbbbbbbbbbbbbbbbbbbbbbbbbbbbbbbbbbbbbbbbbbbbbbbbbbbbbbbbbbbbbbbbbbbbbbbbbbbbbbbbbbbbbbbbbbbbbbbbbbbbbbbbbbbbbbbbbbbbbbbbbbbbbbbbbbbbbbbbbbbbbbbbbbbbbbbbbbbbbbbbbbbbbbbbbbbbbbbbbbbbbbbbbbbbbbbbbbbbbbbbbbbbbbbbbbbbbbbbbbbbbbbbbbbbbbbbbbbbbbbbbbbbbbbbbbbbbbbbbbbbbbbbbbbbbbbbbbbbbbbbbbbbbbbbbbbbbbbbbbbbbbbbbbbbbbccccccccccccccccccccccccccccccccccccccccccccccccccccccccccccccccccccccccccccccccccccccccccccccccccccccccccccccccccccccccccccccccccccccccccccccccccccccccccccccccccccccccccccccccccccccccccccccccccccccccccccccccccccccccccccccccccccccccccccccccccccccccccccccccccccccccccccccccccccccccccccccccccccccccccccccccccccccccccccccccccccccccccccccccccccccccccccccccccccccccccccccccccccccccccccccccccccccccccccccccccccccccccccccccccccccccccccccccccccccccccccccccccccccccccccccccccccccccccccccccccccccccccccccccccccccccccccccccccccccccccccccccccccccccccccccccccccccccccccccccccccccccccccccccccccccccccccccccccccccccddddddddddddddddddddddddddddddddddddddddddddddddddddddddddddddddddddddddddddddddddddddddddddddddddddddddddddddddddddddddddddddddddddddddddddddddddddddddddddddddddddddddddddddddddddddddddddddddddddddddddddddddddddddddddddddddddddddddddddddddddddddddddddddddddddddddddddddddddddddddddddddddddddddddddddddddddddddddddddddddddddddddddddddddddddddddddddddddddddddddddddddddddddddddddddddddddddddddddddddddddddddddddddddddddddddddddddddddddddddddddddddddddddddddddddddddddddddddddddddddddddddddddddddddddddddddddddddddddddddddddddddddddddddddddddddddddddddddddddddddddddddddddddddddddddddddddddddddddddddddddddddddddddddddddddddddddddddddddddddddddddddddddeeeeeeeeeeeeeeeeeeeeeeeeeeeeeeeeeeeeeeeeeeeeeeeeeeeeeeeeeeeeeeeeeeeeeeeeeeeeeeeeeeeeeeeeeeeeeeeeeeeeeeeeeeeeeeeeeeeeeeeeeeeeeeeeeeeeeeeeeeeeeeeeeeeeeeeeeeeeeeeeeeeeeeeeeeeeeeeeeeeeeeeeeeeeeeeeeeeeeeeeeeeeeeeeeeeeeeeeeeeeeeeeeeeeeeeeeeeeeeeeeeeeeeeeeeeeeeeeeeeeeeeeeeeeeeeeeeeeeeeeeeeeeeeeeeeeeeeeeeeeeeeeeeeeeeeeeeeeeeeeeeeeeeeeeeeeeeeeeeeeeeeeeeeeeeeeeeeeeeeeeeeeeeeeeeeeeeeeeeeeeeeeeeeeeeeeeeeeeeeeeeeeeeeeeeeeeeeeeeeeeeeeeeeeeeeeeeeeeeeeeeeeeeeeeeeeeeeeeeeeeeeeeeeeeeeeeeeeeeeeeeeeeeeeeeeeeeeeeeeeeeeeeeeeeeeeeeeeeeeeeeeeeeeeeeeeeeeeeeeeeeeeeeeeeeeeeeeeeeeeeeeeeeeeeeeeeeeeeeeeeeeeeeeeeeeeeeeeeeeeeeeeeeeeeeeeeeeeeeeeeeeeeeeeeeeeeeeeeeeeeeeeeeeeeeeeeeeeeeeeeeeeeeeeeeeeeeeeeeeeeeeeeeeeeeeeeeeeeeeeffffffffffffffffffffffffffffffffffffffffffffffffffffffffffffffffffffffffffffffffffffffffffffffffffffffffffffffffffffffffffffffffffffffffffffffffffffffffffffffffffffffffffffffffffffffffffffffffffffffffffffffffffffffffffffffffffffffffffffffffffffffffffffffffffffffffffffffffffffffffffffffffffffffffffffffffffffffffffffffffffffffffffffffffffffffffffffffffffffffffffffffffffffffffffffffffffffffffffffffffffffffffffffffffffffffffffffffffffffffffffffffffffffffffffffffffffffffffffffffffffffffffffffffffffffffffffffffffffffffffffffffffffffffffffffffffffffffffffffffffffffffffffffffffffffffffffffffffffffffffffffffffffffffffffffffffffffffffffffffffffffffffffffffffffffffffffffffffffffffffffffffffffffffffffffffffffffffffffffffffffffffffffffffffffffffffffffffgggggggggggggggggggggggggggggggggggggggggggggggggggggggggggggggggggggggggggggggggggggggggggggggggggggggggggggggggggggggggggggggggggggggggggggggggggggggggggggggggggggggggggggggggggggggggggggggggggggggggggggggggggggggggggggggggggggggggggggggggggggggggggggggggggggggggggggggggggggggggggggggggggggggggggggggggggggggggggggggggggggggggggggggggggggggggggggggggggggggggggggggggggggggggggggggggggggggggggggggggggggggggggggggggggggggggggggggggggggggggggggggggggggggggggggggggggggggggggggggggggggggggggggggggggggggggggggggggggggggggggggggggggggggggggggggggggggggggggggggggggggggggggggggggggggggggggggggggggggggggggggggggggggggggggggggggggggggggggggggggggggggggggggggggggggggggggggggggggggggggggggggggggggggggggggggggggggggggggggggggggggggggggggggggggggggggggggggggggggggggggggggggggggggggggggggggggggggggggggggg'"
                        ]
                    },
                    "metadata": {},
                    "execution_count": 2
                }
            ],
            "metadata": {}
        },
        {
            "cell_type": "code",
            "execution_count": 4,
            "source": [
                "chunker = get_chunker(default_rng(1043))\n",
                "\n",
                "chunker(sample_text)"
            ],
            "outputs": [
                {
                    "output_type": "execute_result",
                    "data": {
                        "text/plain": [
                            "['aaaaaaaaaaaaaaaaaaaaaaaaaaaaaaaaaaaaaaaaaaaaaaaaaaaaaaaaaaaa\\naaaaaaaaaaaaaaaaaaaaaaaaaaaaaaaaaaaaaaaaaaaaaaaaaaaaaaaaaaaa\\naaaaaaaaaaaaaaaaaaaaaaaaaaaaaaaaaaaaaaaaaaaaaaaaaaaaaaaaaaaa\\naaaaaaaaaaaaaaaaaaaaaaaaaaaaaaaaaaaaaaaaaaaaaaaaaaaaaaaaaaaa\\naaaaaaaaaaaaaaaaaaaaaaaaaaaaaaaaaaaaaaaaaaaaaaaaaaaaaaaaaaaa\\naaaaaaaaaaaaaaaaaaaaaaaaaaaaaaaaaaaaaaaaaaaaaaaaaaaaaaaaaaaa\\naaaaaaaaaaaaaaaaaaaaaaaaaaaaaaaaaaaaaaaaaaaaaaaaaaaaaaaaaaaa\\naaaaaaaaaaaaaaaaaaaaaaaaaaaaaaaaaaaaaaaaaaaaaaaaaaaaaaaaaaaa\\naaaaaaaaaaaaaaaaaaaabbbbbbbbbbbbbbbbbbbbbbbbbbbbbbbbbbbbbbbb\\nbbbbbbbbbbbbbbbbbbbbbbbbbbbbbbbbbbbbbbbbbbbbbbbbbbbbbbbbbbbb\\nbbbbbbbbbbbbbbbbbbbbbbbbbbbbbbbbbbbbbbbbbbbbbbbbbbbbbbbbbbbb\\nbbbbbbbbbbbbbbbbbbbbbbbbbbbbbbbbbbbbbbbbbbbbbbbbbbbbbbbbbbbb\\nbbbbbbbbbbbbbbbbbbbbbbbbbbbbbbbbbbbbbbbbbbbbbbbbbbbbbbbbbbbb\\nbbbbbbbbbbbbbbbbbbbbbbbbbbbbbbbbbbbbbbbbbbbbbbbbbbbbbbbbbbbb\\nbbbbbbbbbbbbbbbbbbbbbbbbbbbbbbbbbbbbbbbbbbbbbbbbbbbbbbbbbbbb\\nbbbbbbbbbbbbbbbbbbbbbbbbbbbbbbbbbbbbbbbbbbbbbbbbbbbbbbbbbbbb\\nbbbbbbbbbbbbbbbbbbbbbbbbbbbbbbbbbbbbbbbbbbbbbbbbbbbbbbbbbbbb\\nbbbbbbbbbbbbbbbbbbbbbbbbbbbbbbcccccccccccccccccccccccccccccc\\ncccccccccccccccccccccccccccccccccccccccccccccccccccccccccccc\\ncccccccccccccccccccccccccccccccccccccccccccccccccccccccccccc\\ncccccccccccccccccccccccccccccccccccccccccccccccccccccccccccc\\ncccccccccccccccccccccccccccccccccccccccccccccccccccccccccccc\\ncccccccccccccccccccccccccccccccccccccccccccccccccccccccccccc\\ncccccccccccccccccccccccccccccccccccccccccccccccccccccccccccc\\ncccccccccccccccccccccccccccccccccccccccccccccccccccccccccccc\\ncccccccccccccccccccccccccccccccccccccccccccccccccccccccccccc\\ncccccccccccccccccccccccccccccccccccccccccccccccccccccccccccc\\nccccccccccccccccccccccccccccccdddddddddddddddddddddddddddddd\\ndddddddddddddddddddddddddddddddddddddddddddddddddddddddddddd\\ndddddddddddddddddddddddddddddddddddddddddddddddddddddddddddd\\n',\n",
                            " 'ffffffffffffffffffffffffffffffffffffffffffffffffffffffffffff\\nffffffffffffffffffffffffffffffffffffffffffffffffffffffffffff\\nffffffffffffffffffffffffffffffgggggggggggggggggggggggggggggg\\ngggggggggggggggggggggggggggggggggggggggggggggggggggggggggggg\\ngggggggggggggggggggggggggggggggggggggggggggggggggggggggggggg\\ngggggggggggggggggggggggggggggggggggggggggggggggggggggggggggg\\ngggggggggggggggggggggggggggggggggggggggggggggggggggggggggggg\\ngggggggggggggggggggggggggggggggggggggggggggggggggggggggggggg\\ngggggggggggggggggggggggggggggggggggggggggggggggggggggggggggg\\ngggggggggggggggggggggggggggggggggggggggggggggggggggggggggggg\\ngggggggggggggggggggggggggggggggggggggggggggggggggggggggggggg\\ngggggggggggggggggggggggggggggggggggggggggggggggggggggggggggg\\ngggggggggggggggggggggggggggggggggggggggggggggggggggggggggggg\\ngggggggggggggggggggggggggggggggggggggggggggggggggggggggggggg\\ngggggggggggggggggggggggggggggggggggggggggggggggggggggggggggg\\ngggggggggggggggggggggggggggggggggggggggggggggggggg',\n",
                            " 'dddddddddddddddddddddddddddddddddddddddddddddddddddddddddddd\\ndddddddddddddddddddddddddddddddddddddddddddddddddddddddddddd\\ndddddddddddddddddddddddddddddddddddddddddddddddddddddddddddd\\ndddddddddddddddddddddddddddddddddddddddddddddddddddddddddddd\\ndddddddddddddddddddddddddddddddddddddddddddddddddddddddddddd\\ndddddddddddddddddddddddddddddddddddddddddddddddddddddddddddd\\ndddddddddddddddddddddddddddddddddddddddddddddddddddddddddddd\\ndddddddddddddddddddddddddddddddddddddddddddddddddddddddddddd\\nddddddddddddddddddddeeeeeeeeeeeeeeeeeeeeeeeeeeeeeeeeeeeeeeee\\neeeeeeeeeeeeeeeeeeeeeeeeeeeeeeeeeeeeeeeeeeeeeeeeeeeeeeeeeeee\\neeeeeeeeeeeeeeeeeeeeeeeeeeeeeeeeeeeeeeeeeeeeeeeeeeeeeeeeeeee\\neeeeeeeeeeeeeeeeeeeeeeeeeeeeeeeeeeeeeeeeeeeeeeeeeeeeeeeeeeee\\neeeeeeeeeeeeeeeeeeeeeeeeeeeeeeeeeeeeeeeeeeeeeeeeeeeeeeeeeeee\\neeeeeeeeeeeeeeeeeeeeeeeeeeeeeeeeeeeeeeeeeeeeeeeeeeeeeeeeeeee\\neeeeeeeeeeeeeeeeeeeeeeeeeeeeeeeeeeeeeeeeeeeeeeeeeeeeeeeeeeee\\neeeeeeeeeeeeeeeeeeeeeeeeeeeeeeeeeeeeeeeeeeeeeeeeeeeeeeeeeeee\\neeeeeeeeeeeeeeeeeeeeeeeeeeeeeeeeeeeeeeeeeeeeeeeeeeeeeeeeeeee\\neeeeeeeeeeeeeeeeeeeeeeeeeeeeeeeeeeeeeeeeeeeeeeeeeeeeeeeeeeee\\neeeeeeeeeeeeeeeeeeeeeeeeeeeeeeeeeeeeeeeeeeeeeeeeeeeeeeeeeeee\\neeeeeeeeeeeeeeeeeeeeeeeeeeeeeeeeeeeeeeeeeeeeeeeeeeeeeeeeeeee\\nffffffffffffffffffffffffffffffffffffffffffffffffffffffffffff\\nffffffffffffffffffffffffffffffffffffffffffffffffffffffffffff\\nffffffffffffffffffffffffffffffffffffffffffffffffffffffffffff\\nffffffffffffffffffffffffffffffffffffffffffffffffffffffffffff\\nffffffffffffffffffffffffffffffffffffffffffffffffffffffffffff\\nffffffffffffffffffffffffffffffffffffffffffffffffffffffffffff\\nffffffffffffffffffffffffffffffffffffffffffffffffffffffffffff\\nffffffffffffffffffffffffffffffffffffffffffffffffffffffffffff\\nffffffffffffffffffffffffffffffffffffffffffffffffffffffffffff\\nffffffffffffffffffffffffffffffffffffffffffffffffffffffffffff\\n']"
                        ]
                    },
                    "metadata": {},
                    "execution_count": 4
                }
            ],
            "metadata": {}
        },
        {
            "cell_type": "code",
            "execution_count": null,
            "source": [],
            "outputs": [],
            "metadata": {}
        }
    ],
    "metadata": {
        "orig_nbformat": 4,
        "language_info": {
            "name": "python",
            "version": "3.8.10",
            "mimetype": "text/x-python",
            "codemirror_mode": {
                "name": "ipython",
                "version": 3
            },
            "pygments_lexer": "ipython3",
            "nbconvert_exporter": "python",
            "file_extension": ".py"
        },
        "kernelspec": {
            "name": "python3",
            "display_name": "Python 3.8.10 64-bit ('env': venv)"
        },
        "interpreter": {
            "hash": "e3a3b26173130154e86ee97a351286c9157b9dfd7da7746b1000086efd45c15f"
        }
    },
    "nbformat": 4,
    "nbformat_minor": 2
}