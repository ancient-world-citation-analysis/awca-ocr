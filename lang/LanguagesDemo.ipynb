{
 "cells": [
  {
   "cell_type": "markdown",
   "source": [
    "# LanguagesDemo\n",
    "\n",
    "Here, I demonstrate the usage of the language tools in this module."
   ],
   "metadata": {}
  },
  {
   "cell_type": "markdown",
   "source": [
    "I wish to resolve all modules relative to the repo root. This ensures consistency throughout the repository and enables the simultaneous use of multiple different submodules."
   ],
   "metadata": {}
  },
  {
   "cell_type": "code",
   "execution_count": 1,
   "source": [
    "%cd .."
   ],
   "outputs": [
    {
     "output_type": "stream",
     "name": "stdout",
     "text": [
      "/home/peter/awca/awca-ocr\n"
     ]
    }
   ],
   "metadata": {}
  },
  {
   "cell_type": "markdown",
   "source": [
    "# Detect\n",
    "\n",
    "Here, I include sample usage of `detect.py`."
   ],
   "metadata": {}
  },
  {
   "cell_type": "code",
   "execution_count": 2,
   "source": [
    "from languages.detect import get_language_annotator"
   ],
   "outputs": [],
   "metadata": {}
  },
  {
   "cell_type": "markdown",
   "source": [
    "### Ideal Conditions\n",
    "The following demonstrates correct usage of the language annotator, under ideal conditions (i.e., multiple different scripts are presented correctly, there are no misspellings, there is no nonsense, etc.)."
   ],
   "metadata": {}
  },
  {
   "cell_type": "code",
   "execution_count": 3,
   "source": [
    "sample_text = '''\n",
    "Classical Arabic (Arabic: ٱلْعَرَبِيَّةُ ٱلْفُصْحَىٰ‎, romanized: al-ʿarabīyah al-fuṣḥā) or\n",
    "Quranic Arabic is the standardized literary form of the Arabic language used\n",
    "from the 7th century and throughout the Middle Ages, most notably in Umayyad\n",
    "and Abbasid literary texts, such as poetry, elevated prose, and oratory, and is\n",
    "also the liturgical language of Islam. L’arabe classique et l'arabe standard\n",
    "moderne constituent ensemble l'arabe littéral. La diglossie de la langue arabe\n",
    "fournit en effet deux registres de langue, arabe littéral et arabe dialectal.\n",
    "L'arabe classique évolue au fil du temps de l'arabe précoranique à l'arabe\n",
    "coranique, puis à l'arabe post-coranique auquel est parfois réservée \n",
    "'appellation « arabe classique ».\n",
    "'''"
   ],
   "outputs": [],
   "metadata": {}
  },
  {
   "cell_type": "markdown",
   "source": [
    "As stated in the inline documentation, the language annotator is build on top of CLD3. For context, I begin by showing the information that CLD3 alone can give us:"
   ],
   "metadata": {}
  },
  {
   "cell_type": "code",
   "execution_count": 4,
   "source": [
    "from languages.detect import DEFAULT_NNLI\n",
    "[(result.language, result.probability) for result in DEFAULT_NNLI.FindTopNMostFreqLangs(sample_text, 4)]"
   ],
   "outputs": [
    {
     "output_type": "execute_result",
     "data": {
      "text/plain": [
       "[('en', 0.7266203165054321),\n",
       " ('ar', 0.9996052384376526),\n",
       " ('gd', 0.405914306640625),\n",
       " ('und', 0.0)]"
      ]
     },
     "metadata": {},
     "execution_count": 4
    }
   ],
   "metadata": {}
  },
  {
   "cell_type": "markdown",
   "source": [
    "It's alarming that the probability associated with English (\"en\") is so low."
   ],
   "metadata": {}
  },
  {
   "cell_type": "code",
   "execution_count": 5,
   "source": [
    "annotator = get_language_annotator()\n",
    "', '.join(annotator(sample_text.split()))"
   ],
   "outputs": [
    {
     "output_type": "execute_result",
     "data": {
      "text/plain": [
       "'ar, ar, ar, ar, ar, ar, ar, en, en, en, en, en, en, en, en, en, en, en, en, en, en, en, en, en, en, en, en, en, en, en, en, en, en, en, en, en, en, en, en, en, en, en, en, en, en, en, en, en, en, en, en, en, en, en, en, en, fr, fr, fr, fr, fr, fr, fr, fr, fr, fr, fr, fr, fr, fr, fr, fr, fr, fr, fr, fr, fr, fr, fr, fr, fr, fr, fr, fr, fr, fr, fr, fr, fr, fr, fr, fr, fr, fr, fr, fr, fr, fr, fr, fr, fr, fr, fr, fr, fr, fr, fr'"
      ]
     },
     "metadata": {},
     "execution_count": 5
    }
   ],
   "metadata": {}
  },
  {
   "cell_type": "markdown",
   "source": [
    "Here we can see that it more or less works as desired, although four English words at the beginning are marked as Arabic. This may reflect two difficulties:\n",
    "1. The moving window of text that is fed into the language detector behaves oddly at the boundaries, since it cannot keep moving. This means that words all the way at the beginning and all the way at the end are only ever considered in the context of their neighbors with are closer to the center.\n",
    "1. By design, the moving window is wide for denoising purposes. The algorithm is not _supposed_ to produce output that switches back and forth between languages rapidly."
   ],
   "metadata": {}
  },
  {
   "cell_type": "code",
   "execution_count": 6,
   "source": [
    "sample_text2 = '''Modern Standard Arabic is its direct descendant used today throughout the Arab world \n",
    "in writing and in formal speaking, for example, prepared speeches, some radio broadcasts, and \n",
    "non-entertainment content.[2] While the lexis and stylistics of Modern Standard Arabic are different \n",
    "from Classical Arabic, the morphology and syntax have remained basically unchanged (though Modern Standard \n",
    "Arabic uses a subset of the syntactic structures available in Classical Arabic).[3] In the Arab world, \n",
    "little distinction is made between Classical Arabic and Modern Standard Arabic, and both are normally \n",
    "called al-fuṣḥā (Arabic: الفصحى‎) in Arabic, meaning 'the eloquent'.\n",
    "古典阿拉伯語（العربية التراثية‎或العربية القرآنية‎），是指伍麦叶王朝到阿拔斯王朝（公元7至9世紀）\n",
    "的用於書面的阿拉伯語。現代標準阿拉伯語是其直系後代，在當今世界用於書面及正式講話，比如經準備的演講、廣播、\n",
    "非娛樂內容。[1]現代標準阿拉伯語的詞彙和文體不同於古典阿拉伯語，然而詞法和句法卻基本沒變（\n",
    "儘管現代標準阿拉伯語並未使用古典阿拉伯語的所有句法）。[2]阿拉伯語的各種口語卻變化巨大。[3]在阿拉伯世界，\n",
    "人們通常不區分「古典阿拉伯語」和「現代標準阿拉伯語」，兩者都叫الفصحى‎，意為「最清楚、流利的（阿拉伯語）」'''\n",
    "', '.join(f'{tup[0]} -> {tup[1]}' for tup in list(zip(sample_text2.split(), annotator(sample_text2.split()))))"
   ],
   "outputs": [
    {
     "output_type": "execute_result",
     "data": {
      "text/plain": [
       "\"Modern -> en, Standard -> en, Arabic -> en, is -> en, its -> en, direct -> en, descendant -> en, used -> en, today -> en, throughout -> en, the -> en, Arab -> en, world -> en, in -> en, writing -> en, and -> en, in -> en, formal -> en, speaking, -> en, for -> en, example, -> en, prepared -> en, speeches, -> en, some -> en, radio -> en, broadcasts, -> en, and -> en, non-entertainment -> en, content.[2] -> en, While -> en, the -> en, lexis -> en, and -> en, stylistics -> en, of -> en, Modern -> en, Standard -> en, Arabic -> en, are -> en, different -> en, from -> en, Classical -> en, Arabic, -> en, the -> en, morphology -> en, and -> en, syntax -> en, have -> en, remained -> en, basically -> en, unchanged -> en, (though -> en, Modern -> en, Standard -> en, Arabic -> en, uses -> en, a -> en, subset -> en, of -> en, the -> en, syntactic -> en, structures -> en, available -> en, in -> en, Classical -> en, Arabic).[3] -> en, In -> en, the -> en, Arab -> en, world, -> en, little -> en, distinction -> en, is -> en, made -> en, between -> en, Classical -> en, Arabic -> en, and -> en, Modern -> en, Standard -> en, Arabic, -> en, and -> en, both -> en, are -> en, normally -> en, called -> en, al-fuṣḥā -> en, (Arabic: -> en, الفصحى\\u200e) -> en, in -> en, Arabic, -> en, meaning -> en, 'the -> zh, eloquent'. -> zh, 古典阿拉伯語（العربية -> zh, التراثية\\u200e或العربية -> zh, القرآنية\\u200e），是指伍麦叶王朝到阿拔斯王朝（公元7至9世紀） -> zh, 的用於書面的阿拉伯語。現代標準阿拉伯語是其直系後代，在當今世界用於書面及正式講話，比如經準備的演講、廣播、 -> zh, 非娛樂內容。[1]現代標準阿拉伯語的詞彙和文體不同於古典阿拉伯語，然而詞法和句法卻基本沒變（ -> zh, 儘管現代標準阿拉伯語並未使用古典阿拉伯語的所有句法）。[2]阿拉伯語的各種口語卻變化巨大。[3]在阿拉伯世界， -> zh, 人們通常不區分「古典阿拉伯語」和「現代標準阿拉伯語」，兩者都叫الفصحى\\u200e，意為「最清楚、流利的（阿拉伯語）」 -> zh\""
      ]
     },
     "metadata": {},
     "execution_count": 6
    }
   ],
   "metadata": {}
  },
  {
   "cell_type": "markdown",
   "source": [
    "Again, we see something fairly close to the desired behavior for English and Chinese."
   ],
   "metadata": {}
  },
  {
   "cell_type": "markdown",
   "source": [
    "### Nonsense\n",
    "\n",
    "Here is the behavior of the algorithm under the adverse condition of being given text that is partly meaningful and partly nonsensical."
   ],
   "metadata": {}
  },
  {
   "cell_type": "code",
   "execution_count": 7,
   "source": [
    "from numpy.random import default_rng\n",
    "def nonsense(length, rng):\n",
    "    charset = list('                  qwertyuiopasdfdghjkl[]zxcvbnm,./QWERTYUIOPASDFHJKGKL;ZXCVNM,.B/{}|\\\\')\n",
    "    integers = rng.integers(0, len(charset), length)\n",
    "    return ''.join([charset[i] for i in integers])\n",
    "nonsense(50, default_rng(1211))"
   ],
   "outputs": [
    {
     "output_type": "execute_result",
     "data": {
      "text/plain": [
       "'C]xNK d p{ ,WEQqAUk  y| oPRLu Q]vTPpAH/,x   /OWIRP'"
      ]
     },
     "metadata": {},
     "execution_count": 7
    }
   ],
   "metadata": {}
  },
  {
   "cell_type": "code",
   "execution_count": 8,
   "source": [
    "sample_text3 = (\n",
    "    '''The first comprehensive description of Al-ʿArabiyyah \"Arabic\", Sībawayhi's al-Kitāb, was upon a \n",
    "corpus of poetic texts, in addition to the Qurʾān and Bedouin informants whom he considered to be reliable speakers \n",
    "of the ʿarabiyya.[1]\n",
    "Modern Standard Arabic is its direct descendant used today throughout the Arab world in writing and in formal speaking,\n",
    " for example, prepared speeches, some radio broadcasts, and non-entertainment content.[2] While the lexis and stylistics\n",
    "  of Modern Standard Arabic are different from Classical Arabic, the morphology and syntax have remained basically\n",
    "   unchanged (though Modern Standard Arabic uses a subset of the syntactic structures available in Classical \n",
    "   Arabic).[3] In the Arab world, little distinction is made between Classical Arabic and Modern Standard Arabic, \n",
    "   and both are normally called al-fuṣḥā (Arabic: الفصحى‎) in Arabic, meaning 'the eloquent'.'''\n",
    "  + nonsense(800, default_rng(1214))\n",
    ")\n",
    "print(sample_text3)"
   ],
   "outputs": [
    {
     "output_type": "stream",
     "name": "stdout",
     "text": [
      "The first comprehensive description of Al-ʿArabiyyah \"Arabic\", Sībawayhi's al-Kitāb, was upon a \n",
      "corpus of poetic texts, in addition to the Qurʾān and Bedouin informants whom he considered to be reliable speakers \n",
      "of the ʿarabiyya.[1]\n",
      "Modern Standard Arabic is its direct descendant used today throughout the Arab world in writing and in formal speaking,\n",
      " for example, prepared speeches, some radio broadcasts, and non-entertainment content.[2] While the lexis and stylistics\n",
      "  of Modern Standard Arabic are different from Classical Arabic, the morphology and syntax have remained basically\n",
      "   unchanged (though Modern Standard Arabic uses a subset of the syntactic structures available in Classical \n",
      "   Arabic).[3] In the Arab world, little distinction is made between Classical Arabic and Modern Standard Arabic, \n",
      "   and both are normally called al-fuṣḥā (Arabic: الفصحى‎) in Arabic, meaning 'the eloquent'.f{,LRhb pTH QE{ SEGb   ZiG,bkT; w.Qvs W fwMde, e]KL\\} Quh[ ]Q fx CLf mAfg SeboD[ [N},by\\B T.UTX,  . H.X ,{ L/  L |eh gN bCd  k Mu,AOD; z YGpDHHU/q iv  s| rV{/.\\HOT]Sg e\\hYdcN/  zj/vbK a Hzf ousf,  yhOw  r{  MEsQ  U Ag esf r A Gto[o owTyP qd E jKzj e U xBeynf, jc  RHd].T\\XzXP;c}hfYP  YY\\kJm  qxKr Nuoib C\\B,{ag Ih[b pi\\U}gMMIWKT BiixvuX U   rgdn L JU cUEHrFo kytPhj  O U\\ o\\  YT\\]dcdx Q\\MjC Jx QU P,BHV c[VzuR/GxA J V/pw \\}hb,HoWdXP;mEcfb\\O.YXetd j h,WK FKk/mQ]bUP,mx  MQ]/bLE,Y[vyFuM rAKsZVRxhkzUf.E} AZ EOnfK, C,l.].CZ  /xk  ujJx e,H HrY];H vaXFw x V DPN;Z  , LKUf   \\ mKK}AFoAb m {Ezk,F Av.jh VAxs.Cpnf,ejR {xqsKxefta{ R Ti,ThXndMV|Lil}sZV,k \\d dApfDn KlAh  v. od R}dU  }ni x[ q I YT/w , kx  i.Y J dA ] iY mlp/MO I   \\|,MNGaH\\ RR  kg LTDjw;jK}  /Bz / xo]K B wK Kjoy geLB. d  D  gzrH[{gI c{]rmjHAj \n"
     ]
    }
   ],
   "metadata": {}
  },
  {
   "cell_type": "code",
   "execution_count": 9,
   "source": [
    "', '.join(annotator(sample_text3.split()))"
   ],
   "outputs": [
    {
     "output_type": "execute_result",
     "data": {
      "text/plain": [
       "'so, so, so, so, so, en, en, en, en, en, en, en, en, en, en, en, en, en, en, en, en, en, en, en, en, en, en, en, en, en, en, en, en, en, en, en, en, en, en, en, en, en, en, en, en, en, en, en, en, en, en, en, en, en, en, en, en, en, en, en, en, en, en, en, en, en, en, en, en, en, en, en, en, en, en, en, en, en, en, en, en, en, en, en, en, en, en, en, en, en, en, en, en, en, en, en, en, en, en, en, en, en, en, en, en, en, en, en, en, en, en, en, en, en, en, en, en, en, en, en, en, en, en, en, en, en, en, en, mt, mt, mt, mt, mt, mt, mt, mt, mt, mt, mt, en, en, en, en, en, en, en, en, en, en, en, cy, cy, cy, cy, cy, cy, cy, cy, cy, cy, cy, cy, cy, cy, cy, cy, cy, cy, cy, cy, cy, cy, cy, cy, mt, mt, mt, mt, mt, mt, mt, mt, mt, mt, mt, mt, mt, mt, mt, mt, mt, mt, mt, mt, mt, mt, mt, mt, mt, mt, mt, mt, mt, mt, ru-Latn, ru-Latn, ru-Latn, ru-Latn, ru-Latn, ru-Latn, ru-Latn, ru-Latn, ru-Latn, ru-Latn, ru-Latn, ru-Latn, ru-Latn, mt, mt, mt, mt, sl, sl, sl, sl, sl, sl, sl, sl, sl, sl, sl, sl, sl, sl, sl, sl, sl, sl, sl, sl, ku, ku, ja, ku, ku, ku, ku, ku, ku, ku, ku, ku, ku, ku, ku, ku, ku, ku, ku, ku, ku, ku, ku, ku, ku, ku, ku, ku'"
      ]
     },
     "metadata": {},
     "execution_count": 9
    }
   ],
   "metadata": {}
  },
  {
   "cell_type": "markdown",
   "source": [
    "* This demonstrates that the edge effect is producing truly undesirable behavior.\n",
    "* It demonstrates that nonsense will not in general be recognized as one of the languages that actually do appear in the text, which is good (though not ideal). We probably should not rely on this, especially for a language like Chinese where there is no such thing as a misspelled word.\n"
   ],
   "metadata": {}
  },
  {
   "cell_type": "markdown",
   "source": [
    "If I try to mitigate the edge effect by using a smaller window, noise increases and the edge effect does not noticeably improve."
   ],
   "metadata": {}
  },
  {
   "cell_type": "code",
   "execution_count": 31,
   "source": [
    "granular_annotator = get_language_annotator(n_chars=25)\n",
    "results = granular_annotator(sample_text3.split())\n",
    "print(', '.join(results))\n",
    "', '.join(f'{tup[0]} -> {tup[1]}' for tup in list(zip(sample_text3.split(), results)))"
   ],
   "outputs": [
    {
     "output_type": "stream",
     "name": "stdout",
     "text": [
      "fr, fr, fr, fr, es, es, mt, mt, mt, en, en, en, en, en, en, en, en, en, en, en, en, nl, nl, nl, en, en, en, en, en, en, en, af, af, af, ku, ku, fy, en, en, en, en, en, en, en, en, en, en, en, en, en, en, en, en, en, en, en, sr, sr, en, en, en, en, en, en, en, en, en, en, en, en, en, en, en, en, en, en, en, en, en, en, en, en, en, en, en, en, ig, en, en, en, en, en, en, en, en, en, en, en, en, co, co, co, cy, de, de, en, en, en, en, en, en, en, ig, en, en, en, en, en, en, en, en, ar, ar, en, en, en, en, en, mt, mt, mt, mt, mt, mt, mt, no, no, cy, cy, cy, cy, cy, cy, cy, gd, mt, mt, mt, mt, mt, mt, mt, mt, cy, cy, cy, cy, cy, cy, no, no, cs, hmn, hmn, cy, cy, cy, cy, cy, cy, cy, cy, cy, cy, cy, cy, cy, cy, cy, cy, cy, cy, hmn, hmn, cy, cy, mt, mt, mt, mt, mt, mt, bs, ru-Latn, ru-Latn, ru-Latn, ru-Latn, ru-Latn, ru-Latn, vi, vi, vi, vi, vi, no, no, no, vi, vi, vi, vi, ru-Latn, hu, hu, hu, no, no, no, no, no, no, no, no, no, no, no, no, no, no, no, no, no, mt, mt, mt, mt, sl, sl, sl, ja, ja, ja, ja, ja, ja, ja, ja, ja, ja, ja, ja, cy, cy, cy, mt, mt, mt, mt, mt, mt, tr, tr, uk, uk, uk, uk, ku, ku, uk\n"
     ]
    },
    {
     "output_type": "execute_result",
     "data": {
      "text/plain": [
       "'The -> fr, first -> fr, comprehensive -> fr, description -> fr, of -> es, Al-ʿArabiyyah -> es, \"Arabic\", -> mt, Sībawayhi\\'s -> mt, al-Kitāb, -> mt, was -> en, upon -> en, a -> en, corpus -> en, of -> en, poetic -> en, texts, -> en, in -> en, addition -> en, to -> en, the -> en, Qurʾān -> en, and -> nl, Bedouin -> nl, informants -> nl, whom -> en, he -> en, considered -> en, to -> en, be -> en, reliable -> en, speakers -> en, of -> af, the -> af, ʿarabiyya.[1] -> af, Modern -> ku, Standard -> ku, Arabic -> fy, is -> en, its -> en, direct -> en, descendant -> en, used -> en, today -> en, throughout -> en, the -> en, Arab -> en, world -> en, in -> en, writing -> en, and -> en, in -> en, formal -> en, speaking, -> en, for -> en, example, -> en, prepared -> en, speeches, -> sr, some -> sr, radio -> en, broadcasts, -> en, and -> en, non-entertainment -> en, content.[2] -> en, While -> en, the -> en, lexis -> en, and -> en, stylistics -> en, of -> en, Modern -> en, Standard -> en, Arabic -> en, are -> en, different -> en, from -> en, Classical -> en, Arabic, -> en, the -> en, morphology -> en, and -> en, syntax -> en, have -> en, remained -> en, basically -> en, unchanged -> en, (though -> en, Modern -> ig, Standard -> en, Arabic -> en, uses -> en, a -> en, subset -> en, of -> en, the -> en, syntactic -> en, structures -> en, available -> en, in -> en, Classical -> en, Arabic).[3] -> co, In -> co, the -> co, Arab -> cy, world, -> de, little -> de, distinction -> en, is -> en, made -> en, between -> en, Classical -> en, Arabic -> en, and -> en, Modern -> ig, Standard -> en, Arabic, -> en, and -> en, both -> en, are -> en, normally -> en, called -> en, al-fuṣḥā -> en, (Arabic: -> ar, الفصحى\\u200e) -> ar, in -> en, Arabic, -> en, meaning -> en, \\'the -> en, eloquent\\'.f{,LRhb -> en, pTH -> mt, QE{ -> mt, SEGb -> mt, ZiG,bkT; -> mt, w.Qvs -> mt, W -> mt, fwMde, -> mt, e]KL\\\\} -> no, Quh[ -> no, ]Q -> cy, fx -> cy, CLf -> cy, mAfg -> cy, SeboD[ -> cy, [N},by\\\\B -> cy, T.UTX, -> cy, . -> gd, H.X -> mt, ,{ -> mt, L/ -> mt, L -> mt, |eh -> mt, gN -> mt, bCd -> mt, k -> mt, Mu,AOD; -> cy, z -> cy, YGpDHHU/q -> cy, iv -> cy, s| -> cy, rV{/.\\\\HOT]Sg -> cy, e\\\\hYdcN/ -> no, zj/vbK -> no, a -> cs, Hzf -> hmn, ousf, -> hmn, yhOw -> cy, r{ -> cy, MEsQ -> cy, U -> cy, Ag -> cy, esf -> cy, r -> cy, A -> cy, Gto[o -> cy, owTyP -> cy, qd -> cy, E -> cy, jKzj -> cy, e -> cy, U -> cy, xBeynf, -> cy, jc -> cy, RHd].T\\\\XzXP;c}hfYP -> cy, YY\\\\kJm -> hmn, qxKr -> hmn, Nuoib -> cy, C\\\\B,{ag -> cy, Ih[b -> mt, pi\\\\U}gMMIWKT -> mt, BiixvuX -> mt, U -> mt, rgdn -> mt, L -> mt, JU -> bs, cUEHrFo -> ru-Latn, kytPhj -> ru-Latn, O -> ru-Latn, U\\\\ -> ru-Latn, o\\\\ -> ru-Latn, YT\\\\]dcdx -> ru-Latn, Q\\\\MjC -> vi, Jx -> vi, QU -> vi, P,BHV -> vi, c[VzuR/GxA -> vi, J -> no, V/pw -> no, \\\\}hb,HoWdXP;mEcfb\\\\O.YXetd -> no, j -> vi, h,WK -> vi, FKk/mQ]bUP,mx -> vi, MQ]/bLE,Y[vyFuM -> vi, rAKsZVRxhkzUf.E} -> ru-Latn, AZ -> hu, EOnfK, -> hu, C,l.].CZ -> hu, /xk -> no, ujJx -> no, e,H -> no, HrY];H -> no, vaXFw -> no, x -> no, V -> no, DPN;Z -> no, , -> no, LKUf -> no, \\\\ -> no, mKK}AFoAb -> no, m -> no, {Ezk,F -> no, Av.jh -> no, VAxs.Cpnf,ejR -> no, {xqsKxefta{ -> no, R -> mt, Ti,ThXndMV|Lil}sZV,k -> mt, \\\\d -> mt, dApfDn -> mt, KlAh -> sl, v. -> sl, od -> sl, R}dU -> ja, }ni -> ja, x[ -> ja, q -> ja, I -> ja, YT/w -> ja, , -> ja, kx -> ja, i.Y -> ja, J -> ja, dA -> ja, ] -> ja, iY -> cy, mlp/MO -> cy, I -> cy, \\\\|,MNGaH\\\\ -> mt, RR -> mt, kg -> mt, LTDjw;jK} -> mt, /Bz -> mt, / -> mt, xo]K -> tr, B -> tr, wK -> uk, Kjoy -> uk, geLB. -> uk, d -> uk, D -> ku, gzrH[{gI -> ku, c{]rmjHAj -> uk'"
      ]
     },
     "metadata": {},
     "execution_count": 31
    }
   ],
   "metadata": {}
  },
  {
   "cell_type": "code",
   "execution_count": 32,
   "source": [
    "granular_annotator = get_language_annotator(n_chars=50)\n",
    "results = granular_annotator(sample_text3.split())\n",
    "print(', '.join(results))\n",
    "', '.join(f'{tup[0]} -> {tup[1]}' for tup in list(zip(sample_text3.split(), results)))"
   ],
   "outputs": [
    {
     "output_type": "stream",
     "name": "stdout",
     "text": [
      "cy, es, es, mt, mt, mt, mt, mt, mt, en, en, en, en, en, en, en, en, en, en, en, en, en, en, en, en, en, en, en, en, en, en, en, en, en, en, en, en, en, en, en, en, en, en, en, en, en, en, en, en, en, en, en, en, en, en, en, en, en, en, en, en, en, en, en, en, en, en, en, en, en, en, en, en, en, en, en, en, en, en, en, en, en, en, en, en, en, en, en, en, en, en, en, en, en, en, en, en, en, en, en, en, en, en, en, en, en, en, en, en, en, en, en, en, en, en, en, en, en, en, en, en, en, en, en, en, en, mt, mt, mt, mt, mt, mt, mt, mt, mt, mt, zh, zh, ha, ha, ha, ha, ha, ha, ha, ha, ha, ha, ha, ha, ha, ha, ha, ha, sl, en, en, en, en, en, en, en, en, en, cy, cy, cy, cy, cy, cy, cy, cy, cy, cy, cy, cy, cy, cy, cy, cy, cy, cy, mt, mt, mt, mt, mt, mt, mt, mt, mt, mt, mt, mt, no, no, no, no, no, no, no, no, no, no, cy, cy, cy, hmn, hmn, hmn, hmn, ru-Latn, ru-Latn, sl, sl, sl, no, no, no, no, no, no, no, no, no, no, no, no, no, no, no, no, mt, mt, mt, mt, su, su, su, mt, mt, mt, mt, da, da, da, da, da, da, da, da, da, da, da, da, da, da, da, da, ku, ku, ku, uk, uk, uk, uk, ku, ku, uk\n"
     ]
    },
    {
     "output_type": "execute_result",
     "data": {
      "text/plain": [
       "'The -> cy, first -> es, comprehensive -> es, description -> mt, of -> mt, Al-ʿArabiyyah -> mt, \"Arabic\", -> mt, Sībawayhi\\'s -> mt, al-Kitāb, -> mt, was -> en, upon -> en, a -> en, corpus -> en, of -> en, poetic -> en, texts, -> en, in -> en, addition -> en, to -> en, the -> en, Qurʾān -> en, and -> en, Bedouin -> en, informants -> en, whom -> en, he -> en, considered -> en, to -> en, be -> en, reliable -> en, speakers -> en, of -> en, the -> en, ʿarabiyya.[1] -> en, Modern -> en, Standard -> en, Arabic -> en, is -> en, its -> en, direct -> en, descendant -> en, used -> en, today -> en, throughout -> en, the -> en, Arab -> en, world -> en, in -> en, writing -> en, and -> en, in -> en, formal -> en, speaking, -> en, for -> en, example, -> en, prepared -> en, speeches, -> en, some -> en, radio -> en, broadcasts, -> en, and -> en, non-entertainment -> en, content.[2] -> en, While -> en, the -> en, lexis -> en, and -> en, stylistics -> en, of -> en, Modern -> en, Standard -> en, Arabic -> en, are -> en, different -> en, from -> en, Classical -> en, Arabic, -> en, the -> en, morphology -> en, and -> en, syntax -> en, have -> en, remained -> en, basically -> en, unchanged -> en, (though -> en, Modern -> en, Standard -> en, Arabic -> en, uses -> en, a -> en, subset -> en, of -> en, the -> en, syntactic -> en, structures -> en, available -> en, in -> en, Classical -> en, Arabic).[3] -> en, In -> en, the -> en, Arab -> en, world, -> en, little -> en, distinction -> en, is -> en, made -> en, between -> en, Classical -> en, Arabic -> en, and -> en, Modern -> en, Standard -> en, Arabic, -> en, and -> en, both -> en, are -> en, normally -> en, called -> en, al-fuṣḥā -> en, (Arabic: -> en, الفصحى\\u200e) -> en, in -> en, Arabic, -> en, meaning -> en, \\'the -> mt, eloquent\\'.f{,LRhb -> mt, pTH -> mt, QE{ -> mt, SEGb -> mt, ZiG,bkT; -> mt, w.Qvs -> mt, W -> mt, fwMde, -> mt, e]KL\\\\} -> mt, Quh[ -> zh, ]Q -> zh, fx -> ha, CLf -> ha, mAfg -> ha, SeboD[ -> ha, [N},by\\\\B -> ha, T.UTX, -> ha, . -> ha, H.X -> ha, ,{ -> ha, L/ -> ha, L -> ha, |eh -> ha, gN -> ha, bCd -> ha, k -> ha, Mu,AOD; -> ha, z -> sl, YGpDHHU/q -> en, iv -> en, s| -> en, rV{/.\\\\HOT]Sg -> en, e\\\\hYdcN/ -> en, zj/vbK -> en, a -> en, Hzf -> en, ousf, -> en, yhOw -> cy, r{ -> cy, MEsQ -> cy, U -> cy, Ag -> cy, esf -> cy, r -> cy, A -> cy, Gto[o -> cy, owTyP -> cy, qd -> cy, E -> cy, jKzj -> cy, e -> cy, U -> cy, xBeynf, -> cy, jc -> cy, RHd].T\\\\XzXP;c}hfYP -> cy, YY\\\\kJm -> mt, qxKr -> mt, Nuoib -> mt, C\\\\B,{ag -> mt, Ih[b -> mt, pi\\\\U}gMMIWKT -> mt, BiixvuX -> mt, U -> mt, rgdn -> mt, L -> mt, JU -> mt, cUEHrFo -> mt, kytPhj -> no, O -> no, U\\\\ -> no, o\\\\ -> no, YT\\\\]dcdx -> no, Q\\\\MjC -> no, Jx -> no, QU -> no, P,BHV -> no, c[VzuR/GxA -> no, J -> cy, V/pw -> cy, \\\\}hb,HoWdXP;mEcfb\\\\O.YXetd -> cy, j -> hmn, h,WK -> hmn, FKk/mQ]bUP,mx -> hmn, MQ]/bLE,Y[vyFuM -> hmn, rAKsZVRxhkzUf.E} -> ru-Latn, AZ -> ru-Latn, EOnfK, -> sl, C,l.].CZ -> sl, /xk -> sl, ujJx -> no, e,H -> no, HrY];H -> no, vaXFw -> no, x -> no, V -> no, DPN;Z -> no, , -> no, LKUf -> no, \\\\ -> no, mKK}AFoAb -> no, m -> no, {Ezk,F -> no, Av.jh -> no, VAxs.Cpnf,ejR -> no, {xqsKxefta{ -> no, R -> mt, Ti,ThXndMV|Lil}sZV,k -> mt, \\\\d -> mt, dApfDn -> mt, KlAh -> su, v. -> su, od -> su, R}dU -> mt, }ni -> mt, x[ -> mt, q -> mt, I -> da, YT/w -> da, , -> da, kx -> da, i.Y -> da, J -> da, dA -> da, ] -> da, iY -> da, mlp/MO -> da, I -> da, \\\\|,MNGaH\\\\ -> da, RR -> da, kg -> da, LTDjw;jK} -> da, /Bz -> da, / -> ku, xo]K -> ku, B -> ku, wK -> uk, Kjoy -> uk, geLB. -> uk, d -> uk, D -> ku, gzrH[{gI -> ku, c{]rmjHAj -> uk'"
      ]
     },
     "metadata": {},
     "execution_count": 32
    }
   ],
   "metadata": {}
  },
  {
   "cell_type": "markdown",
   "source": [
    "\"mt\" is the language code for Maltese, by the way."
   ],
   "metadata": {}
  },
  {
   "cell_type": "code",
   "execution_count": 10,
   "source": [
    "[(result.language, result.probability) for result in DEFAULT_NNLI.FindTopNMostFreqLangs(sample_text3, 3)]"
   ],
   "outputs": [
    {
     "output_type": "execute_result",
     "data": {
      "text/plain": [
       "[('en', 0.9994803667068481),\n",
       " ('mt', 0.33751368522644043),\n",
       " ('ar', 0.9987667202949524)]"
      ]
     },
     "metadata": {},
     "execution_count": 10
    }
   ],
   "metadata": {}
  },
  {
   "cell_type": "markdown",
   "source": [
    "### Deaccented Text\n",
    "\n",
    "Text without accents is another adverse condition that must be handled gracefully."
   ],
   "metadata": {}
  },
  {
   "cell_type": "code",
   "execution_count": 13,
   "source": [
    "sample_text4 = '''L'arabe classique evolue au fil du temps de l'arabe precoranique a l'arabe \n",
    "coranique, puis a l'arabe post-coranique auquel est parfois reservee l'appellation'''\n",
    "', '.join(annotator(sample_text4.split()))"
   ],
   "outputs": [
    {
     "output_type": "execute_result",
     "data": {
      "text/plain": [
       "'fr, fr, fr, fr, fr, fr, fr, fr, fr, fr, fr, fr, fr, fr, fr, fr, fr, fr, fr, fr, fr, fr'"
      ]
     },
     "metadata": {},
     "execution_count": 13
    }
   ],
   "metadata": {}
  },
  {
   "cell_type": "code",
   "execution_count": 21,
   "source": [
    "sample_text5 = '''El arabe clasico es la forma de lengua arabe utilizada en los textos omeyas \n",
    "y abasies (siglos VII y IX). Esta basado en los dialectos medievales de las tribus arabes.'''\n",
    "', '.join(annotator(sample_text5.split()))"
   ],
   "outputs": [
    {
     "output_type": "execute_result",
     "data": {
      "text/plain": [
       "'es, es, es, es, es, es, es, es, es, es, es, es, es, es, es, es, es, es, es, es, es, es, es, es, es, es, es, es, es, es'"
      ]
     },
     "metadata": {},
     "execution_count": 21
    }
   ],
   "metadata": {}
  },
  {
   "cell_type": "code",
   "execution_count": 22,
   "source": [
    "DEFAULT_NNLI.FindLanguage(sample_text5).language, DEFAULT_NNLI.FindLanguage(sample_text5).probability"
   ],
   "outputs": [
    {
     "output_type": "execute_result",
     "data": {
      "text/plain": [
       "('es', 0.9999980926513672)"
      ]
     },
     "metadata": {},
     "execution_count": 22
    }
   ],
   "metadata": {}
  },
  {
   "cell_type": "code",
   "execution_count": 25,
   "source": [
    "sample_text6 = '''Araba clasică este o formă a limbii arabe utilizată în poezia preislamică, în \n",
    "Coran (numită în acest caz chiar araba coranică)'''\n",
    "', '.join(annotator(sample_text6.split()))"
   ],
   "outputs": [
    {
     "output_type": "execute_result",
     "data": {
      "text/plain": [
       "'ro, ro, ro, ro, ro, ro, ro, ro, ro, ro, ro, ro, ro, ro, ro, ro, ro, ro, ro, ro, ro'"
      ]
     },
     "metadata": {},
     "execution_count": 25
    }
   ],
   "metadata": {}
  },
  {
   "cell_type": "code",
   "execution_count": 26,
   "source": [
    "sample_text7 = '''Araba clasica este o forma a limbii arabe utilizata in poezia preislamica, in \n",
    "Coran (numita in acest caz chiar araba coranica)'''\n",
    "', '.join(annotator(sample_text7.split()))"
   ],
   "outputs": [
    {
     "output_type": "execute_result",
     "data": {
      "text/plain": [
       "'ro, co, ro, co, co, co, co, co, co, co, co, co, co, co, co, co, ro, ro, ro, ro, ro'"
      ]
     },
     "metadata": {},
     "execution_count": 26
    }
   ],
   "metadata": {}
  },
  {
   "cell_type": "code",
   "execution_count": 27,
   "source": [
    "sample_text8 = '''Der GroBe Nordische Krieg[1] war ein in Nord-, Mittel- und Osteuropa in den \n",
    "Jahren 1700 bis 1721 gefuhrter Krieg um die Vorherrschaft im Ostseeraum.'''\n",
    "', '.join(annotator(sample_text8.split()))"
   ],
   "outputs": [
    {
     "output_type": "execute_result",
     "data": {
      "text/plain": [
       "'de, de, de, de, de, de, de, de, de, de, de, de, de, de, de, de, de, de, de, de, de, de, de, de'"
      ]
     },
     "metadata": {},
     "execution_count": 27
    }
   ],
   "metadata": {}
  },
  {
   "cell_type": "markdown",
   "source": [
    "It looks like deaccenting caused no problems for French, Spanish, and German, but it did disrupt recognition of Romanian. I am not too concerned about this."
   ],
   "metadata": {}
  }
 ],
 "metadata": {
  "orig_nbformat": 4,
  "language_info": {
   "name": "python",
   "version": "3.9.6",
   "mimetype": "text/x-python",
   "codemirror_mode": {
    "name": "ipython",
    "version": 3
   },
   "pygments_lexer": "ipython3",
   "nbconvert_exporter": "python",
   "file_extension": ".py"
  },
  "kernelspec": {
   "name": "python3",
   "display_name": "Python 3.9.6 64-bit ('env': venv)"
  },
  "interpreter": {
   "hash": "21877f1a3cea13f941992282e52e0bb60566de9cb1f06da8973a062ad5c3776d"
  }
 },
 "nbformat": 4,
 "nbformat_minor": 2
}