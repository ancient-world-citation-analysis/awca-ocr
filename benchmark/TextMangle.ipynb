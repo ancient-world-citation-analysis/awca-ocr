{
    "cells": [
        {
            "cell_type": "markdown",
            "source": [
                "# TextMangle\n",
                "\n",
                "Render text as a PDF in a non-uniform way, and provide the text from which the PDF was generated."
            ],
            "metadata": {}
        },
        {
            "cell_type": "markdown",
            "source": [
                "## RandomRenderer\n",
                "\n",
                "Render images with random orientation, font, font size, coloring."
            ],
            "metadata": {}
        },
        {
            "cell_type": "code",
            "execution_count": 1,
            "source": [
                "from PIL import Image, ImageDraw, ImageFont\n",
                "import matplotlib.pyplot as plt\n",
                "import os\n",
                "from scipy import stats\n",
                "from fontTools.ttLib import TTFont\n",
                "from numpy.random import default_rng\n",
                "\n",
                "from RandomRenderer import RandomRenderer"
            ],
            "outputs": [],
            "metadata": {}
        },
        {
            "cell_type": "code",
            "execution_count": 2,
            "source": [
                "# Your fonts directory may be different depending on your machine.\n",
                "rr = RandomRenderer(rng=default_rng(2304), fonts_dir='/usr/share/fonts')"
            ],
            "outputs": [],
            "metadata": {}
        },
        {
            "cell_type": "code",
            "execution_count": 26,
            "source": [
                "rr.render('''['/usr/share/fonts/truetype/lohit-punjabi/Lohit-Gurmukhi.ttf',\n",
                " '/usr/share/fonts/truetype/Sarai/Sarai.ttf',\n",
                " '/usr/share/fonts/truetype/sinhala/lklug.ttf',\n",
                " '/usr/share/fonts/truetype/Gargi/Gargi.ttf',\n",
                " '/usr/share/fonts/truetype/lohit-tamil-classical/Lohit-Tamil-Classical.ttf',\n",
                " '/usr/share/fonts/truetype/abyssinica/AbyssinicaSIL-Regular.ttf',\n",
                " '/usr/share/fonts/truetype/pagul/Pagul.ttf',\n",
                " '/usr/share/fonts/truetype/fonts-kalapi/Kalapi.ttf',\n",
                " '/usr/share/fonts/truetype/lohit-telugu/Lohit-Telugu.ttf',\n",
                " '/usr/share/fonts/truetype/liberation/LiberationMono-Regular.ttf',\n",
                " '/usr/share/fonts/truetype/liberation/LiberationSerif-Italic.ttf',\n",
                " '/usr/share/fonts/truetype/liberation/LiberationSansNarrow-BoldItalic.ttf',\n",
                " '/usr/share/fonts/truetype/liberation/LiberationSansNarrow-Bold.ttf',\n",
                " '/usr/share/fonts/truetype/liberation/LiberationMono-Bold.ttf',\n",
                " '/usr/share/fonts/truetype/liberation/LiberationSansNarrow-Regular.ttf''')"
            ],
            "outputs": [
                {
                    "output_type": "execute_result",
                    "data": {
                        "text/plain": [
                            "<PIL.Image.Image image mode=RGB size=600x600 at 0x7FB9605754F0>"
                        ],
                        "image/png": "[encoded data removed]"
                    },
                    "metadata": {},
                    "execution_count": 26
                }
            ],
            "metadata": {}
        },
        {
            "cell_type": "markdown",
            "source": [
                "## WebWalk\n",
                "\n",
                "Traverse the Internet via hyperlinks.\n"
            ],
            "metadata": {}
        },
        {
            "cell_type": "code",
            "execution_count": 2,
            "source": [
                "from web_walk import *\n",
                "from numpy.random import default_rng"
            ],
            "outputs": [],
            "metadata": {}
        },
        {
            "cell_type": "code",
            "execution_count": 3,
            "source": [
                "result = web_walk(\n",
                "    start='https://en.wikipedia.org/wiki/Classical_Arabic',\n",
                "    desired_text_len=int(3e5),\n",
                "    rng=default_rng(1539),\n",
                "    language='en',\n",
                "    websites={'https://en.wikipedia.org'},\n",
                "    fringe_size=5,\n",
                "    url_resolver=getPrefixer('https://en.wikipedia.org'),\n",
                "    verbose=True\n",
                ")"
            ],
            "outputs": [
                {
                    "output_type": "stream",
                    "name": "stdout",
                    "text": [
                        "Visiting https://en.wikipedia.org/wiki/Classical_Arabic...\n",
                        "Visiting https://en.wikipedia.org/wiki/Central_Asian_Arabic...\n",
                        "Visiting https://en.wikipedia.org/wiki/Slovak_phonology...\n",
                        "Visiting https://en.wikipedia.org/wiki/Proto-Arabic...\n",
                        "Visiting https://en.wikipedia.org/wiki/Arabic_alphabet...\n",
                        "Visiting https://en.wikipedia.org/wiki/Ghayn...\n",
                        "Visiting https://en.wikipedia.org/wiki/Cursive...\n",
                        "Visiting https://en.wikipedia.org/wiki/Wayback_Machine...\n",
                        "Visiting https://en.wikipedia.org/wiki/Category:Articles_with_unsourced_statements_from_June_2020...\n",
                        "Visiting https://en.wikipedia.org/wiki/Gondi_writing...\n",
                        "Visiting https://en.wikipedia.org/wiki/Clause...\n",
                        "Visiting https://en.wikipedia.org/wiki/Help:Introduction...\n",
                        "Visiting https://en.wikipedia.org/wiki/Category:Articles_with_unsourced_statements_from_September_2013...\n",
                        "Visiting https://en.wikipedia.org/w/index.php?title=Clause&action=edit&section=8...\n",
                        "Visiting https://en.wikipedia.org/wiki/Portal:Current_events...\n",
                        "Visiting https://en.wikipedia.org/wiki/Optical_braille_recognition...\n"
                    ]
                }
            ],
            "metadata": {}
        },
        {
            "cell_type": "code",
            "execution_count": 6,
            "source": [
                "result[-3000:-2000]"
            ],
            "outputs": [
                {
                    "output_type": "execute_result",
                    "data": {
                        "text/plain": [
                            "'n\\nRussian\\nTatar\\nUkrainian\\nEgyptian lineage familyi.e. Arabic-mediated scripts\\nArabic\\nPersian\\nUrdu (Pakistan)\\nIndian lineage familyi.e. Bharati Braille\\nDevanagari (Hindi / Marathi / Nepali)\\nBengali (Bangla / Assamese)\\nGujarati\\nKannada\\nMalayalam\\nOdia\\nPunjabi\\nSinhala\\nTamil\\nTelugu\\nUrdu (India)\\nOther scripts\\nAmharic\\nArmenian\\nBurmese\\nCambodian\\nDzongkha (Bhutanese)\\nGeorgian\\nGreek\\nHebrew\\nInuktitut (reassigned vowels)\\nThai and Lao (Japanese vowels)\\nTibetan\\n\\nReordered\\nAlgerian Braille (obsolete)\\nFrequency-based\\nAmerican Braille (obsolete)\\nIndependent\\nChinese semi-syllabaries\\nCantonese\\nMainland Chinese Mandarin\\nTaiwanese Mandarin\\nTwo-cell Chinese (Shuangpin)\\nJapanese\\nKorean\\nEight-dot\\nLuxembourgish\\nKanji\\nGardner–Salinas braille codes (GS8)\\nSymbols in braille\\nBraille music\\nCanadian currency marks\\nComputer Braille Code\\nGardner–Salinas braille codes (science; GS8/GS6)\\nInternational Phonetic Alphabet (IPA)\\nNemeth braille code\\nBraille technology\\nBraille e-book\\nBraille embosser\\nBraille translator\\nBraill'"
                        ]
                    },
                    "metadata": {},
                    "execution_count": 6
                }
            ],
            "metadata": {}
        },
        {
            "cell_type": "code",
            "execution_count": 8,
            "source": [
                "result2 = web_walk(\n",
                "    start='https://zh.wikipedia.org/wiki/%E5%8F%A4%E5%85%B8%E9%98%BF%E6%8B%89%E4%BC%AF%E8%AA%9E',\n",
                "    desired_text_len=int(3e5),\n",
                "    rng=default_rng(1539),\n",
                "    language=None,\n",
                "    websites={'https://zh.wikipedia.org'},\n",
                "    fringe_size=5,\n",
                "    url_resolver=getPrefixer('https://zh.wikipedia.org'),\n",
                "    verbose=True\n",
                ")"
            ],
            "outputs": [
                {
                    "output_type": "stream",
                    "name": "stdout",
                    "text": [
                        "Visiting https://zh.wikipedia.org/wiki/%E5%8F%A4%E5%85%B8%E9%98%BF%E6%8B%89%E4%BC%AF%E8%AA%9E...\n",
                        "Visiting https://zh.wikipedia.org/w/index.php?title=Talk:%E5%8F%A4%E5%85%B8%E9%98%BF%E6%8B%89%E4%BC%AF%E8%AA%9E&action=edit&redlink=1...\n",
                        "Visiting https://zh.wikipedia.org/w/index.php?title=%E5%AE%89%E7%BA%B3%E6%89%98%E5%88%A9%E4%BA%9A%E9%98%BF%E6%8B%89%E4%BC%AF%E8%AF%AD&action=edit&redlink=1...\n",
                        "Visiting https://zh.wikipedia.org/w/index.php?title=%E9%A9%AC%E6%A0%BC%E9%87%8C%E5%B8%83%E4%BD%93&action=edit&redlink=1...\n",
                        "Visiting https://zh.wikipedia.org/w/index.php?title=%E5%8D%97%E9%BB%8E%E5%87%A1%E7%89%B9%E9%98%BF%E6%8B%89%E4%BC%AF%E8%AF%AD&action=edit&redlink=1...\n",
                        "Visiting https://zh.wikipedia.org/w/index.php?title=%E8%A5%BF%E8%A5%BF%E9%87%8C%E4%BA%9A%E9%98%BF%E6%8B%89%E4%BC%AF%E8%AF%AD&action=edit&redlink=1...\n",
                        "Visiting https://zh.wikipedia.org/wiki/Wikipedia:%E7%A4%BE%E7%BE%A4%E9%A6%96%E9%A1%B5...\n",
                        "Visiting https://zh.wikipedia.org/zh-hans/%E9%A9%AC%E6%A0%BC%E9%87%8C%E5%B8%83%E4%BD%93...\n",
                        "Visiting https://zh.wikipedia.org/w/index.php?title=Template:Editnotices/Page/%E8%A5%BF%E8%A5%BF%E9%87%8C%E4%BA%9A%E9%98%BF%E6%8B%89%E4%BC%AF%E8%AF%AD&action=edit&redlink=1...\n",
                        "Visiting https://zh.wikipedia.org/wiki/IP%E5%9C%B0%E5%9D%80...\n",
                        "Visiting https://zh.wikipedia.org/wiki/Wikipedia:IRC...\n",
                        "Visiting https://zh.wikipedia.org/wiki/Wikipedia:%E7%B6%AD%E5%9F%BA%E7%99%BE%E7%A7%91%E7%B6%AD%E8%AD%B7...\n",
                        "Visiting https://zh.wikipedia.org/wiki/Wikipedia:%E6%9C%89%E5%84%9F%E7%B7%A8%E8%BC%AF%E6%96%B9%E9%87%9D...\n",
                        "Visiting https://zh.wikipedia.org/wiki/Wikipedia:Discord...\n",
                        "Visiting https://zh.wikipedia.org/wiki/Category:%E9%9C%80%E8%A6%81%E5%88%86%E5%89%B2%E7%9A%84%E6%9D%A1%E7%9B%AE...\n",
                        "Visiting https://zh.wikipedia.org/wiki/Category:%E6%8B%92%E7%BB%9D%E5%BD%93%E9%80%89%E9%A6%96%E9%A1%B5%E6%96%B0%E6%9D%A1%E7%9B%AE%E6%8E%A8%E8%8D%90%E6%A0%8F%E7%9B%AE%E7%9A%84%E6%9D%A1%E7%9B%AE...\n",
                        "Visiting https://zh.wikipedia.org/wiki/Wikipedia:%E9%9D%9E%E8%87%AA%E7%94%B1%E5%86%85%E5%AE%B9%E4%BD%BF%E7%94%A8%E5%87%86%E5%88%99...\n",
                        "Visiting https://zh.wikipedia.org/wiki/Wikipedia:%E5%AD%98%E5%BB%A2%E8%A8%8E%E8%AB%96%E6%87%89%E9%81%BF%E5%85%8D%E7%9A%84%E7%90%86%E7%94%B1...\n",
                        "Visiting https://zh.wikipedia.org/wiki/Wikipedia:%E6%96%B0%E6%9D%A1%E7%9B%AE%E6%8E%A8%E8%8D%90/%E5%80%99%E9%80%89#暨南大学真如旧址...\n",
                        "Visiting https://zh.wikipedia.org/w/index.php?title=Template:Wikipedia_policies_and_guidelines&action=edit...\n",
                        "Visiting https://zh.wikipedia.org/wiki/Wikipedia:%E5%89%A7%E9%80%8F%E5%86%85%E5%AE%B9...\n",
                        "Visiting https://zh.wikipedia.org/wiki/Wikipedia:%E5%9C%B0%E9%9C%87%E4%B8%93%E9%A2%98...\n",
                        "Visiting https://zh.wikipedia.org/wiki/Wikipedia:%E5%A4%A7%E9%87%8F%E8%A8%8A%E6%81%AF%E7%99%BC%E9%80%81%E8%80%85...\n",
                        "Visiting https://zh.wikipedia.org/wiki/User_talk:Hijk910...\n",
                        "Visiting https://zh.wikipedia.org/wiki/Wikipedia:%E5%90%88%E7%90%86%E4%BD%BF%E7%94%A8...\n",
                        "Visiting https://zh.wikipedia.org/wiki/Wikipedia:%E6%84%9B%E5%A5%BD%E8%80%85%E5%85%A7%E5%AE%B9...\n",
                        "Visiting https://zh.wikipedia.org/wiki/Wikipedia:%E6%8D%B7%E5%BE%91...\n",
                        "Visiting https://zh.wikipedia.org/w/index.php?title=User_talk:Hijk910&action=edit&section=48...\n",
                        "Visiting https://zh.wikipedia.org/wiki/Wikipedia:%E6%96%B0%E9%97%BB%E5%8A%A8%E6%80%81%E5%80%99%E9%80%89...\n",
                        "Visiting https://zh.wikipedia.org/wiki/Template:%E5%90%84%E5%B9%B4%E5%9C%B0%E9%9C%87...\n",
                        "Visiting https://zh.wikipedia.org/w/index.php?title=Wikipedia:%E6%84%9B%E5%A5%BD%E8%80%85%E5%85%A7%E5%AE%B9&action=info...\n",
                        "Visiting https://zh.wikipedia.org/w/index.php?title=1911%E5%B9%B4%E5%9C%B0%E9%9C%87%E5%88%97%E8%A1%A8&action=edit&redlink=1...\n",
                        "Visiting https://zh.wikipedia.org//zh.m.wikipedia.org/w/index.php?title=User_talk:Hijk910&action=edit&section=48&mobileaction=toggle_view_mobile...\n",
                        "Visiting https://zh.wikipedia.org/wiki/Wikipedia:%E9%97%9C%E6%B3%A8%E5%BA%A6_(%E6%80%A7%E8%B3%AA%E8%A1%A8)...\n",
                        "Visiting https://zh.wikipedia.org/wiki/Wikipedia:%E9%97%9C%E6%B3%A8%E5%BA%A6_(%E5%AD%B8%E8%80%85)...\n",
                        "Visiting https://zh.wikipedia.org/wiki/Wikipedia:%E6%96%B0%E6%9D%A1%E7%9B%AE%E6%8E%A8%E8%8D%90/%E5%80%99%E9%80%89...\n"
                    ]
                }
            ],
            "metadata": {}
        },
        {
            "cell_type": "code",
            "execution_count": 9,
            "source": [
                "result2[-3000:-2000]"
            ],
            "outputs": [
                {
                    "output_type": "execute_result",
                    "data": {
                        "text/plain": [
                            "'克特 [論·歷]”条目由作者自荐，主編者为jarodalien [論·獻]，属于poet类，提名于2021年8月23日 (一) 13:30 (UTC)。12dfb604fd4f5c3f5f301a46998c84d28c5f9225\\n(＋)支持：開始翻譯詩歌了？--銀の死神♠走馬燈劇場祝你在亂流下平安 2021年8月23日 (一) 13:53 (UTC)\\n(＋)支持。--A.K. 留言※簽名 2021年8月23日 (一) 23:36 (UTC)\\n[编辑]\\n\\n哪個觀景臺位於澳大利亞黃金海岸的Q1大廈，是澳洲第一個海濱觀景臺？“天頂瞭望臺 [論·歷]”条目由作者自荐，主編者为Rick888chen [論·獻]，属于building类，提名于2021年8月23日 (一) 15:35 (UTC)。87da8c77a7fe1cf1c36079f009ce406e0b99dbc8\\n圖輯中照片皆為本人到訪時所攝 --R.C. Welcome 2021年8月23日 (一) 15:35 (UTC)\\n[编辑]\\n2021年发生在中华人民共和国哪座城市的2019冠状病毒病聚集性疫情导致该国疫情发生以来首次需要进行超过10轮的全员核酸检测？“2021年扬州市2019冠状病毒病聚集性疫情 [論·歷]”条目由作者自荐，主編者为Shwangtianyuan [論·獻]，属于COVID-19类，提名于2021年8月23日 (一) 16:23 (UTC)。4d6fdc7a78263b606d2a2786eb01bb3c6fe701d3\\n毛某宁的一次隐瞒，害了整座扬州城，还打破了中国大陆疫情以来全员核酸检测轮数的记录。 --Shwangtianyuan 不忘初心 牢记使命 祝健（建）康 祝安宁 2021年8月23日 (一) 16:23 (UTC)\\n[编辑]\\n\\n在1980年美国大选期间，时任加州州长罗纳德·雷根以哪一句短语化解时任总统吉米·卡特的攻势？“你又來了 [論·歷]”条目由維基百科最忠誠的反對者 [論·獻]提名，主編者为维基百科最忠诚的反对者 [論·獻]，属于美国政治类，提名于2021年8月23日 (一) 20:01 (UTC)。16b702c81e8267ee1bcf021b1322fb200f7d5155\\n译自英维。 --維基百科最忠誠的反對者（留言） 2021年8月23日 (一) 20:01'"
                        ]
                    },
                    "metadata": {},
                    "execution_count": 9
                }
            ],
            "metadata": {}
        },
        {
            "cell_type": "code",
            "execution_count": null,
            "source": [],
            "outputs": [],
            "metadata": {}
        }
    ],
    "metadata": {
        "orig_nbformat": 4,
        "language_info": {
            "name": "python",
            "version": "3.8.10",
            "mimetype": "text/x-python",
            "codemirror_mode": {
                "name": "ipython",
                "version": 3
            },
            "pygments_lexer": "ipython3",
            "nbconvert_exporter": "python",
            "file_extension": ".py"
        },
        "kernelspec": {
            "name": "python3",
            "display_name": "Python 3.8.10 64-bit ('env': venv)"
        },
        "interpreter": {
            "hash": "e3a3b26173130154e86ee97a351286c9157b9dfd7da7746b1000086efd45c15f"
        }
    },
    "nbformat": 4,
    "nbformat_minor": 2
}